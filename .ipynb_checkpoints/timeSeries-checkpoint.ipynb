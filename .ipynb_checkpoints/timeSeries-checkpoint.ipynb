{
 "cells": [
  {
   "cell_type": "code",
   "execution_count": 1,
   "id": "8bac33c4-6d04-4feb-857c-782a460f97d2",
   "metadata": {},
   "outputs": [],
   "source": [
    "import matplotlib.pyplot as plt\n",
    "from matplotlib.ticker import MaxNLocator"
   ]
  },
  {
   "cell_type": "code",
   "execution_count": 2,
   "id": "fbf1c0fc-7c68-4ecb-bd9b-d6ce74021b3d",
   "metadata": {},
   "outputs": [],
   "source": [
    "def changeAdjClosePrice(etf: str):\n",
    "    df_etf = master_df[master_df['ETF'] == etf].copy()\n",
    "    df_etf.sort_values('Date', inplace=True)\n",
    "    plt.figure(figsize=(8, 4))\n",
    "    plt.plot(df_etf['Date'], df_etf['Adj Close'])\n",
    "    plt.title(f\"Adj Closing Price Over Time - {etf}\")\n",
    "    plt.xlabel(\"Date\")\n",
    "    plt.ylabel(\"$/Unit\")\n",
    "    ax = plt.gca()\n",
    "    ax.xaxis.set_major_locator(MaxNLocator(7))\n",
    "    plt.tight_layout()\n",
    "    plt.show()"
   ]
  },
  {
   "cell_type": "code",
   "execution_count": 3,
   "id": "bdce55e2-81f8-4de0-a4ee-2ccad7a62f50",
   "metadata": {},
   "outputs": [
    {
     "ename": "NameError",
     "evalue": "name 'master_df' is not defined",
     "output_type": "error",
     "traceback": [
      "\u001b[0;31m---------------------------------------------------------------------------\u001b[0m",
      "\u001b[0;31mNameError\u001b[0m                                 Traceback (most recent call last)",
      "Cell \u001b[0;32mIn[3], line 1\u001b[0m\n\u001b[0;32m----> 1\u001b[0m \u001b[43mmaster_df\u001b[49m\u001b[38;5;241m.\u001b[39msort_values(by\u001b[38;5;241m=\u001b[39m[\u001b[38;5;124m'\u001b[39m\u001b[38;5;124mETF\u001b[39m\u001b[38;5;124m'\u001b[39m,\u001b[38;5;124m'\u001b[39m\u001b[38;5;124mDate\u001b[39m\u001b[38;5;124m'\u001b[39m], inplace\u001b[38;5;241m=\u001b[39m\u001b[38;5;28;01mTrue\u001b[39;00m)\n\u001b[1;32m      3\u001b[0m \u001b[38;5;66;03m# Group by ETF, then compute daily returns\u001b[39;00m\n\u001b[1;32m      4\u001b[0m master_df[\u001b[38;5;124m'\u001b[39m\u001b[38;5;124mDaily_Return\u001b[39m\u001b[38;5;124m'\u001b[39m] \u001b[38;5;241m=\u001b[39m master_df\u001b[38;5;241m.\u001b[39mgroupby(\u001b[38;5;124m'\u001b[39m\u001b[38;5;124mETF\u001b[39m\u001b[38;5;124m'\u001b[39m)[\u001b[38;5;124m'\u001b[39m\u001b[38;5;124mClose\u001b[39m\u001b[38;5;124m'\u001b[39m]\u001b[38;5;241m.\u001b[39mpct_change()\n",
      "\u001b[0;31mNameError\u001b[0m: name 'master_df' is not defined"
     ]
    }
   ],
   "source": [
    "master_df.sort_values(by=['ETF','Date'], inplace=True)\n",
    "\n",
    "# Group by ETF, then compute daily returns\n",
    "master_df['Daily_Return'] = master_df.groupby('ETF')['Close'].pct_change()\n",
    "\n",
    "# Quick check\n",
    "print(\"\\nDaily Returns preview:\")\n",
    "master_df[['ETF','Date','Close','Daily_Return']].head(10)"
   ]
  },
  {
   "cell_type": "code",
   "execution_count": 4,
   "id": "34b62873-2f4d-46be-9f2a-6f8e3be58ee9",
   "metadata": {},
   "outputs": [],
   "source": [
    "def dailyReturns(etf: str):\n",
    "    df_etf = master_df[master_df['ETF'] == etf].copy()\n",
    "    plt.figure(figsize=(8,4))\n",
    "    df_etf['Daily_Return'].hist(bins=50)\n",
    "    plt.title(f\"Distribution of Daily Returns - {etf}\")\n",
    "    plt.xlabel(\"Daily Return\")\n",
    "    plt.ylabel(\"Frequency\")\n",
    "    plt.tight_layout()\n",
    "    plt.show()"
   ]
  },
  {
   "cell_type": "code",
   "execution_count": null,
   "id": "a3f9529a-be90-42c0-ad54-79463e57eae5",
   "metadata": {},
   "outputs": [],
   "source": []
  }
 ],
 "metadata": {
  "kernelspec": {
   "display_name": "Python 3 (ipykernel)",
   "language": "python",
   "name": "python3"
  },
  "language_info": {
   "codemirror_mode": {
    "name": "ipython",
    "version": 3
   },
   "file_extension": ".py",
   "mimetype": "text/x-python",
   "name": "python",
   "nbconvert_exporter": "python",
   "pygments_lexer": "ipython3",
   "version": "3.13.0"
  }
 },
 "nbformat": 4,
 "nbformat_minor": 5
}
