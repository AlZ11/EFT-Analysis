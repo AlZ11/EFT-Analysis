{
 "cells": [
  {
   "cell_type": "code",
   "execution_count": null,
   "id": "64ed9f1d-7d4e-478e-9f34-de514bddb70f",
   "metadata": {},
   "outputs": [],
   "source": [
    "import os\n",
    "import glob\n",
    "import re\n",
    "import pandas as pd\n",
    "from IPython.display import display"
   ]
  },
  {
   "cell_type": "markdown",
   "id": "5ef5978d-fac3-4f8c-9d97-e576d703a836",
   "metadata": {},
   "source": [
    "# Concatenate all ETF csv into one master data frame"
   ]
  },
  {
   "cell_type": "code",
   "execution_count": null,
   "id": "31ac263f-c214-4ae6-8afc-747469f8b1d2",
   "metadata": {},
   "outputs": [],
   "source": [
    "# Reading csv files from ETF_data folder\n",
    "csv_files = glob.glob(os.path.join(\"ETF_data\", \"*.csv\"))\n",
    "df_list = []\n",
    "\n",
    "# For each csv file extract the ETF name using regex and add the name to the a new column called \"ETF\"\n",
    "# Add each csv file to df_list\n",
    "for file in csv_files:\n",
    "    df = pd.read_csv(file)\n",
    "    match = re.search(r\"/([^/]+)\\.csv$\", file)\n",
    "    if match:\n",
    "        ETF_str = match.group(1)\n",
    "        df[\"ETF\"] = ETF_str\n",
    "    df_list.append(df)\n",
    "\n",
    "# Remove any empty data frames\n",
    "df_list = [df for df in df_list if not df.empty]\n",
    "\n",
    "# Combine all data frames into one master data frame\n",
    "master_df = pd.concat(df_list, ignore_index=True)\n",
    "master_df.dropna(inplace=True)\n",
    "master_df"
   ]
  },
  {
   "cell_type": "markdown",
   "id": "5bf83717-fa67-45dc-9749-f8f7a8e57df7",
   "metadata": {},
   "source": [
    "# Checking for null and duplicate values"
   ]
  },
  {
   "cell_type": "code",
   "execution_count": null,
   "id": "4dcd4762-0575-4f6a-95d2-2e2727e0149f",
   "metadata": {},
   "outputs": [],
   "source": [
    "display(master_df.isnull().sum())\n",
    "# True indicates that there is no dupe values as the number of Falses should be equivalent to the size of the data frame\n",
    "print(master_df.duplicated().to_list().count(False) == len(master_df))"
   ]
  },
  {
   "cell_type": "markdown",
   "id": "b2adad7f-4306-4f59-baef-415d37513d77",
   "metadata": {},
   "source": [
    "# Outlier detection & filtration"
   ]
  },
  {
   "cell_type": "code",
   "execution_count": null,
   "id": "53a4f547-b185-4868-a7f0-0620d2ee6679",
   "metadata": {},
   "outputs": [],
   "source": [
    "# Calculate IQR for the 'Volume' column as an example:\n",
    "# Outputtig the outlier count for the first 5 ETFs\n",
    "for etf in master_df[\"ETF\"].unique()[0:5]:\n",
    "    \n",
    "    q1 = master_df[master_df[\"ETF\"] == etf]['Volume'].quantile(0.25)\n",
    "    q3 = master_df[master_df[\"ETF\"] == etf]['Volume'].quantile(0.75)\n",
    "    iqr = q3 - q1\n",
    "    lower_bound = q1 - 1.5 * iqr\n",
    "    upper_bound = q3 + 1.5 * iqr\n",
    "    mask = (master_df[\"ETF\"] == etf) & (\n",
    "    (master_df[\"Volume\"] < lower_bound) | (master_df[\"Volume\"] > upper_bound))\n",
    "    outliers = master_df.loc[mask]\n",
    "    \n",
    "    # Identify outliers:\n",
    "    print(f\"Outliers count for {etf}:\", outliers.shape[0])"
   ]
  },
  {
   "cell_type": "code",
   "execution_count": null,
   "id": "3bfc3efb-a531-46a8-9889-013eff75831f",
   "metadata": {},
   "outputs": [],
   "source": [
    "# Option: Filter out volume outliers\n",
    "q1 = master_df.groupby('ETF')['Volume'].transform(lambda x: x.quantile(0.25))\n",
    "q3 = master_df.groupby('ETF')['Volume'].transform(lambda x: x.quantile(0.75))\n",
    "iqr = q3 - q1\n",
    "\n",
    "# Define the lower and upper bounds for each row\n",
    "lower_bound = q1 - 1.5 * iqr\n",
    "upper_bound = q3 + 1.5 * iqr\n",
    "\n",
    "# Create a mask that is True when Volume is within the acceptable range\n",
    "mask = (master_df['Volume'] >= lower_bound) & (master_df['Volume'] <= upper_bound)\n",
    "\n",
    "# Filter master_df\n",
    "df_filtered_alt = master_df[mask].copy()\n",
    "\n",
    "print(\"Original rows:\", len(master_df))\n",
    "print(\"Rows after filtering out volume outliers:\", len(df_filtered_alt))"
   ]
  },
  {
   "cell_type": "code",
   "execution_count": null,
   "id": "b1e1eaec-617d-41c4-9cc5-befef10cc8f1",
   "metadata": {},
   "outputs": [],
   "source": [
    "master_df"
   ]
  },
  {
   "cell_type": "code",
   "execution_count": null,
   "id": "bf829f02-82bd-41d9-ab60-ae74d2575506",
   "metadata": {},
   "outputs": [],
   "source": [
    "master_df.to_pickle(\"master_df.pkl\")"
   ]
  }
 ],
 "metadata": {
  "kernelspec": {
   "display_name": "Python 3 (ipykernel)",
   "language": "python",
   "name": "python3"
  },
  "language_info": {
   "codemirror_mode": {
    "name": "ipython",
    "version": 3
   },
   "file_extension": ".py",
   "mimetype": "text/x-python",
   "name": "python",
   "nbconvert_exporter": "python",
   "pygments_lexer": "ipython3",
   "version": "3.13.0"
  }
 },
 "nbformat": 4,
 "nbformat_minor": 5
}
