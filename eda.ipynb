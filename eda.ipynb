{
 "cells": [
  {
   "cell_type": "code",
   "execution_count": 1,
   "id": "be94dd76-cca6-402a-9b8f-8aa2776054fa",
   "metadata": {},
   "outputs": [],
   "source": [
    "import pandas as pd\n",
    "from IPython.display import display"
   ]
  },
  {
   "cell_type": "markdown",
   "id": "c4a48a8e-e2fc-463b-98fd-b22a4500e47a",
   "metadata": {},
   "source": [
    "# Load data frame"
   ]
  },
  {
   "cell_type": "code",
   "execution_count": 2,
   "id": "1588df11-381a-445d-8a08-a69c78ad846d",
   "metadata": {},
   "outputs": [
    {
     "ename": "FileNotFoundError",
     "evalue": "[Errno 2] No such file or directory: 'master_df.pkl'",
     "output_type": "error",
     "traceback": [
      "\u001b[0;31m---------------------------------------------------------------------------\u001b[0m",
      "\u001b[0;31mFileNotFoundError\u001b[0m                         Traceback (most recent call last)",
      "Cell \u001b[0;32mIn[2], line 1\u001b[0m\n\u001b[0;32m----> 1\u001b[0m master_df \u001b[38;5;241m=\u001b[39m \u001b[43mpd\u001b[49m\u001b[38;5;241;43m.\u001b[39;49m\u001b[43mread_pickle\u001b[49m\u001b[43m(\u001b[49m\u001b[38;5;124;43m\"\u001b[39;49m\u001b[38;5;124;43mmaster_df.pkl\u001b[39;49m\u001b[38;5;124;43m\"\u001b[39;49m\u001b[43m)\u001b[49m\n\u001b[1;32m      2\u001b[0m master_df\n",
      "File \u001b[0;32m/Library/Frameworks/Python.framework/Versions/3.13/lib/python3.13/site-packages/pandas/io/pickle.py:185\u001b[0m, in \u001b[0;36mread_pickle\u001b[0;34m(filepath_or_buffer, compression, storage_options)\u001b[0m\n\u001b[1;32m    123\u001b[0m \u001b[38;5;250m\u001b[39m\u001b[38;5;124;03m\"\"\"\u001b[39;00m\n\u001b[1;32m    124\u001b[0m \u001b[38;5;124;03mLoad pickled pandas object (or any object) from file.\u001b[39;00m\n\u001b[1;32m    125\u001b[0m \n\u001b[0;32m   (...)\u001b[0m\n\u001b[1;32m    182\u001b[0m \u001b[38;5;124;03m4    4    9\u001b[39;00m\n\u001b[1;32m    183\u001b[0m \u001b[38;5;124;03m\"\"\"\u001b[39;00m\n\u001b[1;32m    184\u001b[0m excs_to_catch \u001b[38;5;241m=\u001b[39m (\u001b[38;5;167;01mAttributeError\u001b[39;00m, \u001b[38;5;167;01mImportError\u001b[39;00m, \u001b[38;5;167;01mModuleNotFoundError\u001b[39;00m, \u001b[38;5;167;01mTypeError\u001b[39;00m)\n\u001b[0;32m--> 185\u001b[0m \u001b[38;5;28;01mwith\u001b[39;00m \u001b[43mget_handle\u001b[49m\u001b[43m(\u001b[49m\n\u001b[1;32m    186\u001b[0m \u001b[43m    \u001b[49m\u001b[43mfilepath_or_buffer\u001b[49m\u001b[43m,\u001b[49m\n\u001b[1;32m    187\u001b[0m \u001b[43m    \u001b[49m\u001b[38;5;124;43m\"\u001b[39;49m\u001b[38;5;124;43mrb\u001b[39;49m\u001b[38;5;124;43m\"\u001b[39;49m\u001b[43m,\u001b[49m\n\u001b[1;32m    188\u001b[0m \u001b[43m    \u001b[49m\u001b[43mcompression\u001b[49m\u001b[38;5;241;43m=\u001b[39;49m\u001b[43mcompression\u001b[49m\u001b[43m,\u001b[49m\n\u001b[1;32m    189\u001b[0m \u001b[43m    \u001b[49m\u001b[43mis_text\u001b[49m\u001b[38;5;241;43m=\u001b[39;49m\u001b[38;5;28;43;01mFalse\u001b[39;49;00m\u001b[43m,\u001b[49m\n\u001b[1;32m    190\u001b[0m \u001b[43m    \u001b[49m\u001b[43mstorage_options\u001b[49m\u001b[38;5;241;43m=\u001b[39;49m\u001b[43mstorage_options\u001b[49m\u001b[43m,\u001b[49m\n\u001b[1;32m    191\u001b[0m \u001b[43m\u001b[49m\u001b[43m)\u001b[49m \u001b[38;5;28;01mas\u001b[39;00m handles:\n\u001b[1;32m    192\u001b[0m     \u001b[38;5;66;03m# 1) try standard library Pickle\u001b[39;00m\n\u001b[1;32m    193\u001b[0m     \u001b[38;5;66;03m# 2) try pickle_compat (older pandas version) to handle subclass changes\u001b[39;00m\n\u001b[1;32m    194\u001b[0m     \u001b[38;5;66;03m# 3) try pickle_compat with latin-1 encoding upon a UnicodeDecodeError\u001b[39;00m\n\u001b[1;32m    196\u001b[0m     \u001b[38;5;28;01mtry\u001b[39;00m:\n\u001b[1;32m    197\u001b[0m         \u001b[38;5;66;03m# TypeError for Cython complaints about object.__new__ vs Tick.__new__\u001b[39;00m\n\u001b[1;32m    198\u001b[0m         \u001b[38;5;28;01mtry\u001b[39;00m:\n",
      "File \u001b[0;32m/Library/Frameworks/Python.framework/Versions/3.13/lib/python3.13/site-packages/pandas/io/common.py:882\u001b[0m, in \u001b[0;36mget_handle\u001b[0;34m(path_or_buf, mode, encoding, compression, memory_map, is_text, errors, storage_options)\u001b[0m\n\u001b[1;32m    873\u001b[0m         handle \u001b[38;5;241m=\u001b[39m \u001b[38;5;28mopen\u001b[39m(\n\u001b[1;32m    874\u001b[0m             handle,\n\u001b[1;32m    875\u001b[0m             ioargs\u001b[38;5;241m.\u001b[39mmode,\n\u001b[0;32m   (...)\u001b[0m\n\u001b[1;32m    878\u001b[0m             newline\u001b[38;5;241m=\u001b[39m\u001b[38;5;124m\"\u001b[39m\u001b[38;5;124m\"\u001b[39m,\n\u001b[1;32m    879\u001b[0m         )\n\u001b[1;32m    880\u001b[0m     \u001b[38;5;28;01melse\u001b[39;00m:\n\u001b[1;32m    881\u001b[0m         \u001b[38;5;66;03m# Binary mode\u001b[39;00m\n\u001b[0;32m--> 882\u001b[0m         handle \u001b[38;5;241m=\u001b[39m \u001b[38;5;28;43mopen\u001b[39;49m\u001b[43m(\u001b[49m\u001b[43mhandle\u001b[49m\u001b[43m,\u001b[49m\u001b[43m \u001b[49m\u001b[43mioargs\u001b[49m\u001b[38;5;241;43m.\u001b[39;49m\u001b[43mmode\u001b[49m\u001b[43m)\u001b[49m\n\u001b[1;32m    883\u001b[0m     handles\u001b[38;5;241m.\u001b[39mappend(handle)\n\u001b[1;32m    885\u001b[0m \u001b[38;5;66;03m# Convert BytesIO or file objects passed with an encoding\u001b[39;00m\n",
      "\u001b[0;31mFileNotFoundError\u001b[0m: [Errno 2] No such file or directory: 'master_df.pkl'"
     ]
    }
   ],
   "source": [
    "master_df = pd.read_pickle(\"master_df.pkl\")\n",
    "master_df"
   ]
  },
  {
   "cell_type": "markdown",
   "id": "ed558ba0-fc5e-4f1b-a959-42b383d7e2d4",
   "metadata": {},
   "source": [
    "# Inspection of master EFT data frame features"
   ]
  },
  {
   "cell_type": "code",
   "execution_count": null,
   "id": "dc3b7bec-6d3f-414f-bc94-04e62a4747fe",
   "metadata": {},
   "outputs": [],
   "source": [
    "print(master_df.shape[0])\n",
    "print(master_df.columns.tolist())\n",
    "print(len(etfList := master_df[\"ETF\"].unique()))\n",
    "display(master_df.head())\n",
    "display(master_df.tail())"
   ]
  },
  {
   "cell_type": "code",
   "execution_count": null,
   "id": "14aab500-40b4-4e0a-a5aa-b934b1252ec3",
   "metadata": {},
   "outputs": [],
   "source": [
    "summary_stats = master_df.groupby('ETF').describe().round(2)\n",
    "print(\"\\nSummary Statistics by ETF:\")\n",
    "summary_stats.head()"
   ]
  },
  {
   "cell_type": "markdown",
   "id": "e455978a-e58c-4c0b-9f8e-f771b808307b",
   "metadata": {},
   "source": [
    "# Univariate Analysis: Preview of one ETF"
   ]
  },
  {
   "cell_type": "code",
   "execution_count": null,
   "id": "6ee06f5b-4053-4f5b-9980-a9393669aeba",
   "metadata": {},
   "outputs": [],
   "source": [
    "etf_key = \"SPY\"\n",
    "df_sample = master_df[master_df[\"ETF\"] == etf_key]\n",
    "\n",
    "print(\"Preview of data for:\", etf_key)\n",
    "display(df_sample.head())\n",
    "display(df_sample.describe())\n",
    "print(df_sample.info())"
   ]
  },
  {
   "cell_type": "code",
   "execution_count": null,
   "id": "df614540-d19c-4dd8-a22c-288a7bc3da4a",
   "metadata": {},
   "outputs": [],
   "source": [
    "import matplotlib.pyplot as plt\n",
    "from matplotlib.ticker import MaxNLocator\n",
    "import random"
   ]
  },
  {
   "cell_type": "code",
   "execution_count": null,
   "id": "53e98ff9-974e-4388-ac67-130b9841646b",
   "metadata": {},
   "outputs": [],
   "source": [
    "plt.figure(figsize=(10, 5))\n",
    "plt.plot(df_sample['Date'], df_sample['Adj Close'])\n",
    "plt.title(f\"{etf_key} - Adjusted Close Price Over Time\")\n",
    "plt.xlabel(\"Date\")\n",
    "plt.ylabel(\"Adjusted Close\")\n",
    "ax = plt.gca()\n",
    "ax.xaxis.set_major_locator(MaxNLocator(7))\n",
    "plt.show()"
   ]
  },
  {
   "cell_type": "markdown",
   "id": "884e1e3e-aa8c-459d-866f-23ca9bec8e29",
   "metadata": {},
   "source": []
  },
  {
   "cell_type": "code",
   "execution_count": null,
   "id": "cb3a828d-aabe-4923-89cc-fc89749505c5",
   "metadata": {},
   "outputs": [],
   "source": [
    "# Example: Simple daily returns\n",
    "df_sample.loc[:,'Daily_Return'] = df_sample.loc[:,'Adj Close'].pct_change()\n",
    "\n",
    "# Check distribution of daily returns\n",
    "print(df_sample['Daily_Return'].describe())\n",
    "\n",
    "# Histogram of daily returns\n",
    "plt.figure(figsize=(8, 4))\n",
    "plt.hist(df_sample['Daily_Return'].dropna(), bins=50)\n",
    "plt.title(f\"{etf_key} - Distribution of Daily Returns\")\n",
    "plt.xlabel(\"Daily Return\")\n",
    "plt.ylabel(\"Frequency\")\n",
    "plt.show()"
   ]
  },
  {
   "cell_type": "code",
   "execution_count": null,
   "id": "d7e00126-92d6-473c-aac0-a206697ecc82",
   "metadata": {},
   "outputs": [],
   "source": [
    "# Create boxplot of SPY trading volume to visualise outliers\n",
    "reduced_df = master_df.iloc[::100]\n",
    "reduced_df_adj = reduced_df[reduced_df[\"ETF\"] == etf_key]\n",
    "plt.figure(figsize=(6, 10))\n",
    "plt.boxplot(reduced_df_adj['Volume'].dropna())\n",
    "plt.yscale('log')\n",
    "plt.title(\"Boxplot of Trading Volume\")\n",
    "plt.ylabel(\"Volume\")\n",
    "plt.show()"
   ]
  },
  {
   "cell_type": "code",
   "execution_count": null,
   "id": "bc332495-2d51-450f-9db0-a0e01115d2dd",
   "metadata": {},
   "outputs": [],
   "source": [
    "fig, axs = plt.subplots(4, 4, figsize=(30, 30))\n",
    "\n",
    "for i in range(16):\n",
    "    random.seed(i)\n",
    "    randomInt = random.randint(0, len(etfList))\n",
    "    \n",
    "    row = i // 4\n",
    "    col = i % 4\n",
    "\n",
    "    df_etf = master_df[master_df['ETF'] == etfList[randomInt]].copy()\n",
    "    axs[row, col].plot(df_etf['Date'], df_etf['Adj Close'])\n",
    "    axs[row, col].set_xlabel(etfList[randomInt])\n",
    "    axs[row, col].xaxis.set_major_locator(MaxNLocator(7))\n",
    "    \n",
    "# Tidy up layout so the plots don’t overlap\n",
    "fig.supylabel(\"$/Unit\")\n",
    "fig.supxlabel(\"Date\")\n",
    "plt.tight_layout()\n",
    "plt.show()"
   ]
  },
  {
   "cell_type": "code",
   "execution_count": null,
   "id": "b6191d2d-6322-4df4-a17d-2779cd702400",
   "metadata": {},
   "outputs": [],
   "source": [
    "# Calculate daily returns using Adj Close for improved accuracy.\n",
    "master_df['Daily Return'] = master_df['Adj Close'].pct_change()\n",
    "\n",
    "# open price vs close price scatter plot\n",
    "plt.figure(figsize=(8, 4))\n",
    "plt.scatter(master_df['Open'], master_df['Close'], alpha=0.5)\n",
    "plt.title(\"Open vs. Close Price\")\n",
    "plt.xlabel(\"Open Price\")\n",
    "plt.ylabel(\"Close Price\")\n",
    "plt.show()\n",
    "\n",
    "# open & close correlation\n",
    "print(\"Correlation (Open vs. Close):\", master_df['Open'].corr(master_df['Close']))"
   ]
  },
  {
   "cell_type": "code",
   "execution_count": null,
   "id": "faadcb4d-1648-4323-bdb4-26a9df02d694",
   "metadata": {},
   "outputs": [],
   "source": []
  }
 ],
 "metadata": {
  "kernelspec": {
   "display_name": "Python 3 (ipykernel)",
   "language": "python",
   "name": "python3"
  },
  "language_info": {
   "codemirror_mode": {
    "name": "ipython",
    "version": 3
   },
   "file_extension": ".py",
   "mimetype": "text/x-python",
   "name": "python",
   "nbconvert_exporter": "python",
   "pygments_lexer": "ipython3",
   "version": "3.13.0"
  }
 },
 "nbformat": 4,
 "nbformat_minor": 5
}
